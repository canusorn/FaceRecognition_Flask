{
 "cells": [
  {
   "cell_type": "code",
   "execution_count": 2,
   "id": "f38dc0ad",
   "metadata": {},
   "outputs": [],
   "source": [
    "import numpy as np\n",
    "import matplotlib.pyplot as plt"
   ]
  },
  {
   "cell_type": "code",
   "execution_count": 5,
   "id": "7ebc1629",
   "metadata": {},
   "outputs": [
    {
     "name": "stdout",
     "output_type": "stream",
     "text": [
      "[  0   1   2   3   4   5   6   7   8   9  10  11  12  13  14  15  16  17\n",
      "  18  19  20  21  22  23  24  25  26  27  28  29  30  31  32  33  34  35\n",
      "  36  37  38  39  40  41  42  43  44  45  46  47  48  49  50  51  52  53\n",
      "  54  55  56  57  58  59  60  61  62  63  64  65  66  67  68  69  70  71\n",
      "  72  73  74  75  76  77  78  79  80  81  82  83  84  85  86  87  88  89\n",
      "  90  91  92  93  94  95  96  97  98  99 100 101 102 103 104 105 106 107\n",
      " 108 109 110 111 112 113 114 115 116 117 118 119 120 121 122 123 124 125\n",
      " 126 127 128 129 130 131 132 133 134 135 136 137 138 139 140 141 142 143\n",
      " 144 145 146 147 148 149 150 151 152 153 154 155 156 157 158 159 160 161\n",
      " 162 163 164 165 166 167 168 169 170 171 172 173 174 175 176 177 178 179\n",
      " 180 181 182 183 184 185 186 187 188 189 190 191 192 193 194 195 196 197\n",
      " 198 199 200 201 202 203 204 205 206 207 208 209 210 211 212 213 214 215\n",
      " 216 217 218 219 220 221 222 223 224 225 226 227 228 229 230 231 232 233\n",
      " 234 235 236 237 238 239 240 241 242 243 244 245 246 247 248 249 250 251\n",
      " 252 253 254 255]\n"
     ]
    }
   ],
   "source": [
    "arr = np.arange(0,256,1)\n",
    "print(arr)"
   ]
  },
  {
   "cell_type": "code",
   "execution_count": 9,
   "id": "effdcc0f",
   "metadata": {},
   "outputs": [
    {
     "name": "stdout",
     "output_type": "stream",
     "text": [
      "[[  0   1   2   3   4   5   6   7   8   9  10  11  12  13  14  15]\n",
      " [ 16  17  18  19  20  21  22  23  24  25  26  27  28  29  30  31]\n",
      " [ 32  33  34  35  36  37  38  39  40  41  42  43  44  45  46  47]\n",
      " [ 48  49  50  51  52  53  54  55  56  57  58  59  60  61  62  63]\n",
      " [ 64  65  66  67  68  69  70  71  72  73  74  75  76  77  78  79]\n",
      " [ 80  81  82  83  84  85  86  87  88  89  90  91  92  93  94  95]\n",
      " [ 96  97  98  99 100 101 102 103 104 105 106 107 108 109 110 111]\n",
      " [112 113 114 115 116 117 118 119 120 121 122 123 124 125 126 127]\n",
      " [128 129 130 131 132 133 134 135 136 137 138 139 140 141 142 143]\n",
      " [144 145 146 147 148 149 150 151 152 153 154 155 156 157 158 159]\n",
      " [160 161 162 163 164 165 166 167 168 169 170 171 172 173 174 175]\n",
      " [176 177 178 179 180 181 182 183 184 185 186 187 188 189 190 191]\n",
      " [192 193 194 195 196 197 198 199 200 201 202 203 204 205 206 207]\n",
      " [208 209 210 211 212 213 214 215 216 217 218 219 220 221 222 223]\n",
      " [224 225 226 227 228 229 230 231 232 233 234 235 236 237 238 239]\n",
      " [240 241 242 243 244 245 246 247 248 249 250 251 252 253 254 255]]\n"
     ]
    }
   ],
   "source": [
    "arr = arr.reshape((16,16))\n",
    "print(arr)"
   ]
  },
  {
   "cell_type": "code",
   "execution_count": 19,
   "id": "e692cfff",
   "metadata": {},
   "outputs": [],
   "source": [
    "arr_8bit = arr.astype(np.uint8)"
   ]
  },
  {
   "cell_type": "code",
   "execution_count": 21,
   "id": "8fbb209d",
   "metadata": {},
   "outputs": [
    {
     "data": {
      "image/png": "[encoded data removed]",
      "text/plain": [
       "<Figure size 640x480 with 1 Axes>"
      ]
     },
     "metadata": {},
     "output_type": "display_data"
    }
   ],
   "source": [
    "plt.imshow(arr_8bit,cmap='gray')\n",
    "plt.axis('off')\n",
    "plt.show()"
   ]
  },
  {
   "cell_type": "code",
   "execution_count": 27,
   "id": "44691b1f",
   "metadata": {},
   "outputs": [
    {
     "data": {
      "text/plain": [
       "(-0.5, 15.5, 15.5, -0.5)"
      ]
     },
     "execution_count": 27,
     "metadata": {},
     "output_type": "execute_result"
    },
    {
     "data": {
      "image/png": "[encoded data removed]",
      "text/plain": [
       "<Figure size 640x480 with 1 Axes>"
      ]
     },
     "metadata": {},
     "output_type": "display_data"
    }
   ],
   "source": [
    "arr1=np.random.randint(low=0,high=255,size=(16,16),dtype=np.uint8)\n",
    "plt.imshow(arr1,cmap='gray')\n",
    "plt.axis('off')"
   ]
  },
  {
   "cell_type": "code",
   "execution_count": 31,
   "id": "0cb5fd3e",
   "metadata": {},
   "outputs": [
    {
     "data": {
      "text/plain": [
       "array([[ 90, 141, 217, 233, 124,  93, 117, 253, 143, 105,  88, 155,  35,\n",
       "        171, 106, 245],\n",
       "       [221, 162, 125, 209,  40, 190, 247, 140, 253, 130, 195, 253, 197,\n",
       "        173,  76, 213],\n",
       "       [ 65,  95, 135,  98,  80, 167, 190,  86, 141, 136, 211,  84, 154,\n",
       "          3, 103, 135],\n",
       "       [201,  89, 220,  54,   3, 223, 249,  13,   8, 108, 106,  75,  68,\n",
       "        154, 114, 169],\n",
       "       [ 89,  39,  43, 246, 234, 165,  43, 163,   6, 129,  46,   4, 161,\n",
       "        133, 147,  75],\n",
       "       [ 88,  79,  53, 109, 102, 133,  99, 113, 145,  14,  81,  62,  50,\n",
       "          6,  40, 222],\n",
       "       [159, 125, 233, 197, 108, 252,  21, 211, 170, 115,  34, 248,  88,\n",
       "         62, 131, 192],\n",
       "       [147,  60,  20, 178,  66, 223,  61,   4, 190,  73, 247, 158, 253,\n",
       "         63, 210, 137],\n",
       "       [117, 204, 222, 182,   6, 106, 146, 186,  23,  81, 134, 205, 161,\n",
       "         95, 174, 153],\n",
       "       [ 84, 245, 149,  79, 202,  89, 243,  85, 236, 189, 129,  42,  24,\n",
       "         73,  40,  40],\n",
       "       [ 88,  54, 141,  91, 167,  30, 210, 153, 211, 201, 158, 121,  18,\n",
       "         22, 185,  30],\n",
       "       [149, 253,  85, 191, 199,   7, 121,  53, 145, 253,  30,  61,  37,\n",
       "        145, 218, 208],\n",
       "       [ 14,  40, 113,  23, 118, 238,  22,  90,  34, 248,  58, 192, 161,\n",
       "        115,  41, 120],\n",
       "       [  6,  16,  73,  19,  11,  42, 129,  95, 176,  74,  92,  91,  47,\n",
       "        180,  97, 133],\n",
       "       [ 60, 151,  52,  20, 135,   1, 189, 232, 137,  18,  74, 213,  19,\n",
       "        123,   1,  47],\n",
       "       [150, 208, 205, 110,  24, 132, 114,  98,  81, 247, 157, 149, 207,\n",
       "        121,  93, 104]], dtype=uint8)"
      ]
     },
     "execution_count": 31,
     "metadata": {},
     "output_type": "execute_result"
    }
   ],
   "source": [
    "arr1"
   ]
  },
  {
   "cell_type": "code",
   "execution_count": null,
   "id": "3b06c9c9",
   "metadata": {},
   "outputs": [],
   "source": []
  }
 ],
 "metadata": {
  "kernelspec": {
   "display_name": "Python 3 (ipykernel)",
   "language": "python",
   "name": "python3"
  },
  "language_info": {
   "codemirror_mode": {
    "name": "ipython",
    "version": 3
   },
   "file_extension": ".py",
   "mimetype": "text/x-python",
   "name": "python",
   "nbconvert_exporter": "python",
   "pygments_lexer": "ipython3",
   "version": "3.9.13"
  }
 },
 "nbformat": 4,
 "nbformat_minor": 5
}
